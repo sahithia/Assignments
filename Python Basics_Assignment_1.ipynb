{
 "cells": [
  {
   "cell_type": "raw",
   "id": "850fd9a2",
   "metadata": {},
   "source": [
    "1. Values:\n",
    "    'hello', -87.8, 6\n",
    "   Expressions:\n",
    "        -, /, +\n"
   ]
  },
  {
   "cell_type": "raw",
   "id": "fa960ea5",
   "metadata": {},
   "source": [
    "2. String: String is one of the data type in python. String values are defined using either single or double quotes. \n",
    "    Eg: x='iNeuron', Here iNeuron is the text value that represents a string and x is a variable of type string that holds the text value. \n",
    "    \n",
    "    Variable: Variable is like a placeholder to store values for processing. It can hold values of different data types in python like int, float, string, bool etc.\n",
    "        based on value assigned to variable, the data type is decided. \n",
    "        Eg: x=1, x=\"iNeuron\"\n",
    "            "
   ]
  },
  {
   "cell_type": "raw",
   "id": "d96cb1a5",
   "metadata": {},
   "source": [
    "3. Data Types in python:\n",
    "    a. int : It represents integer values without a decimal point. It can be a positive or negative number. \n",
    "        Values can be modified and mathematical operations can be performed on these values.\n",
    "        Eg: x=1, y=-5\n",
    "    b. float: It indicates values with decimal points. It has integer and fractional parts.\n",
    "        Values can be modified and mathematical operations can be performed on these values.\n",
    "        Eg: x = 1.25\n",
    "    c. List: List is a collection of values. Values can be of same or different types. List is defined using [], and \n",
    "        values are defined separated by commas. \n",
    "        Eg: List1 = [1,2,3,\"iNeuron\",1.5]\n",
    "        Values in list can be modified, so it is a mutable data type. \n",
    "        Values are accesed by using index, the value of which generally starts from 0."
   ]
  },
  {
   "cell_type": "raw",
   "id": "6bba5dca",
   "metadata": {},
   "source": [
    "4. Expressions contain variables/values, operators. Expressions perform operations defined in it and produce a value.\n",
    "Eg: x= 2 + 3, This is an expression, where addition happens and the result of 5 is assigned to variable x after evaluating the expression.\n",
    "    "
   ]
  },
  {
   "cell_type": "raw",
   "id": "0563b544",
   "metadata": {},
   "source": [
    "5. Expressions contain variables/values, operators. Expressions perform operations defined in it and produce a value(the part on the right side of assignment).\n",
    "Eg: x= 2 + 3.\n",
    "Statements are like instructions. In the question, we have spam = 10 which is assignment statement.\n",
    "It simply assigns value of 10 to the variable spam. \n",
    "Expressions are also statements, which evaluate and produce/assign values."
   ]
  },
  {
   "cell_type": "raw",
   "id": "2a65d4ed",
   "metadata": {},
   "source": [
    "6. bacon = 22\n",
    "bacon + 1\n",
    "\n",
    "After this, bacon still holds value 22. As, it was incremented but value was not assigned."
   ]
  },
  {
   "cell_type": "raw",
   "id": "05ac70f4",
   "metadata": {},
   "source": [
    "7.'spam' + 'spamspam'\n",
    "'spam' * 3\n",
    "\n",
    "Both result in spamspamspam. As in first one, both strings get concatenated, and in second one spam ocurrence is repeated thrice."
   ]
  },
  {
   "cell_type": "raw",
   "id": "25dade1b",
   "metadata": {},
   "source": [
    "8. eggs is a valid variable name as it can be used to name a placeholder to store a value, and value can be accessed by using the variable name (eggs) that points to the memory location that holds the value.\n",
    "100 is not a valid variable name, as it is a value and is not a reference to a memory location."
   ]
  },
  {
   "cell_type": "raw",
   "id": "f4f92e4f",
   "metadata": {},
   "source": [
    "9. int(variable) is used to get the int value\n",
    "Eg: x='12'\n",
    "    int(x) will convert string value 12 to int\n",
    "float(variable) is used to get the float value\n",
    "Eg: x='12.12'\n",
    "    float(x) will convert string value 12.12 to float\n",
    "str(variable) is used to convert value to string\n",
    "Eg: x= 123\n",
    "    str(x) will convert 123 into text '123'"
   ]
  },
  {
   "cell_type": "raw",
   "id": "5f89bdd1",
   "metadata": {},
   "source": [
    "10. 'I have eaten ' + 99 + ' burritos.'\n",
    "\n",
    "This fails because of not able to concatenate int value.\n",
    "\n",
    "Modified :\n",
    "    \n",
    "    'I have eaten ' + str(99) + ' burritos.'"
   ]
  },
  {
   "cell_type": "code",
   "execution_count": null,
   "id": "292968fc",
   "metadata": {},
   "outputs": [],
   "source": []
  },
  {
   "cell_type": "code",
   "execution_count": null,
   "id": "95ef67ac",
   "metadata": {},
   "outputs": [],
   "source": []
  }
 ],
 "metadata": {
  "kernelspec": {
   "display_name": "Python 3 (ipykernel)",
   "language": "python",
   "name": "python3"
  },
  "language_info": {
   "codemirror_mode": {
    "name": "ipython",
    "version": 3
   },
   "file_extension": ".py",
   "mimetype": "text/x-python",
   "name": "python",
   "nbconvert_exporter": "python",
   "pygments_lexer": "ipython3",
   "version": "3.9.7"
  }
 },
 "nbformat": 4,
 "nbformat_minor": 5
}
