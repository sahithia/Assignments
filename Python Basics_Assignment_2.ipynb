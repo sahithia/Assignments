{
 "cells": [
  {
   "cell_type": "raw",
   "id": "d48aa621",
   "metadata": {},
   "source": [
    "1. A boolean data type represents values True or False.\n",
    "Eg: x= True\n",
    "    \n",
    "    y =False\n",
    "    1 and 0 indicate True and False."
   ]
  },
  {
   "cell_type": "raw",
   "id": "e2c22b32",
   "metadata": {},
   "source": [
    "2. and, or, not are the 3 boolean operators."
   ]
  },
  {
   "cell_type": "raw",
   "id": "6f122074",
   "metadata": {},
   "source": [
    "3. And Truth table\n",
    "   A        B          A and B\n",
    "    --------------------------\n",
    "   True     True       True\n",
    "   True     False      False\n",
    "   False    True       False\n",
    "   False    False      False\n",
    "    \n",
    "    \n",
    "    OR Truth Table\n",
    "    A       B          A or B\n",
    "    --------------------------\n",
    "    True    True       True\n",
    "    True    False      True\n",
    "    False   True       True\n",
    "    False   False      False\n",
    "    \n",
    "    Not Truth Table\n",
    "    \n",
    "    A      Not A\n",
    "    ------------\n",
    "    True   False\n",
    "    False  True"
   ]
  },
  {
   "cell_type": "raw",
   "id": "501bf772",
   "metadata": {},
   "source": [
    "4.  (5 > 4) and (3 == 5)    ===> False\n",
    "    not (5 > 4)             ===> False\n",
    "    (5 > 4) or (3 == 5)     ===> True\n",
    "    not ((5 > 4) or (3 == 5))===> False\n",
    "    (True and True) and (True == False) ====> False\n",
    "    (not False) or (not True)   ====> True"
   ]
  },
  {
   "cell_type": "raw",
   "id": "54de254d",
   "metadata": {},
   "source": [
    "5. Comparison Operators\n",
    "   i.  > ---- Greater than\n",
    "  ii.  < ---- Less than\n",
    " iii. == ---- Equals to\n",
    "  iv.  >= --- Greater than or equals to\n",
    "   v.  <= --- Less than or equals to\n",
    "   vi. != --- Not equal to"
   ]
  },
  {
   "cell_type": "raw",
   "id": "b7293218",
   "metadata": {},
   "source": [
    "6. Equal to operator (==) is used when we need to check for an equality condition, if two values match or not.\n",
    "Eg:\n",
    "    if(2==3) ---> this checks if values 2 and 3 match. As it doesn't match it results in False\n",
    "Assignment operator (=) is used when we need to assign or map a value to a variable. \n",
    "Eg: a= 2    ---> Value of 2 is assigned to variable a."
   ]
  },
  {
   "cell_type": "raw",
   "id": "4895fcb8",
   "metadata": {},
   "source": [
    "7. Block 1\n",
    "if spam == 10:\n",
    "print('eggs')\n",
    "\n",
    "Block 2: \n",
    "if spam > 5:\n",
    "print('bacon')\n",
    "\n",
    "Block 3:\n",
    "    else:\n",
    "print('ham')\n",
    "print('spam')\n",
    "print('spam')\n",
    "\n",
    "\n",
    "Note: Assuming tab indentation exists for print statements mentioned in question as below:\n",
    "        spam = 0\n",
    "if spam == 10:\n",
    "    print('eggs')\n",
    "if spam > 5:\n",
    "    print('bacon')\n",
    "else:\n",
    "    print('ham')\n",
    "    print('spam')\n",
    "    print('spam')\n"
   ]
  },
  {
   "cell_type": "code",
   "execution_count": null,
   "id": "e4e992d2",
   "metadata": {},
   "outputs": [],
   "source": [
    "8. spam = int(input())\n",
    "if (spam==1 ):\n",
    "    print('Hello')\n",
    "elif (spam==2):\n",
    "    print('Howdy')\n",
    "else:\n",
    "    print('Greetings!')"
   ]
  },
  {
   "cell_type": "raw",
   "id": "4bf6ef48",
   "metadata": {},
   "source": [
    "9. Crtl + C"
   ]
  },
  {
   "cell_type": "raw",
   "id": "8bd11edc",
   "metadata": {},
   "source": [
    "10. break: completely terminates the execution of the current loop and control moves over to the next line after the loop\n",
    "    continue: Current iteration of the loop is skipped, and the next iteration in the loop will be executed."
   ]
  },
  {
   "cell_type": "raw",
   "id": "3dc3aac2",
   "metadata": {},
   "source": [
    "11. range(10), range(0,10), range(0,10,1) all give same result. Explanation is as below:\n",
    "range(10): Creates a sequence of numbers from 0 to 9. \n",
    "           Start position 0 is optional, end postion 10 is excluded, so it generates till 9,\n",
    "           and increment step value is 1 by default.\n",
    "range(0,10): Creates a sequence of numbers from 0 to 9.\n",
    "           Start position is mentioned as 0, values are generated till 9, the end postion \n",
    "           10 gets excluded, and default step increment value is 1.\n",
    "range(0, 10, 1): Creates a sequence of numbers from 0 to 9.\n",
    "           Start position is mentioned as 0, values are generated till 9, the end postion \n",
    "           10 gets excluded, and  step increment value is mentioned as 1.\n",
    "    "
   ]
  },
  {
   "cell_type": "code",
   "execution_count": null,
   "id": "53b33667",
   "metadata": {},
   "outputs": [],
   "source": [
    "12. #Print numbers 1 to 10 using for loop\n",
    "x = range(1,11)\n",
    "for i in x:\n",
    "    print(i)\n",
    "    \n",
    "    # Print numbers 1 to 10 using while loop\n",
    "i = 1\n",
    "while(i in range(1,11)):\n",
    "    print(i)\n",
    "    i+=1\n",
    "    "
   ]
  },
  {
   "cell_type": "raw",
   "id": "206280e1",
   "metadata": {},
   "source": [
    "13. import spam\n",
    "spam.bacon()"
   ]
  }
 ],
 "metadata": {
  "kernelspec": {
   "display_name": "Python 3 (ipykernel)",
   "language": "python",
   "name": "python3"
  },
  "language_info": {
   "codemirror_mode": {
    "name": "ipython",
    "version": 3
   },
   "file_extension": ".py",
   "mimetype": "text/x-python",
   "name": "python",
   "nbconvert_exporter": "python",
   "pygments_lexer": "ipython3",
   "version": "3.9.7"
  }
 },
 "nbformat": 4,
 "nbformat_minor": 5
}
