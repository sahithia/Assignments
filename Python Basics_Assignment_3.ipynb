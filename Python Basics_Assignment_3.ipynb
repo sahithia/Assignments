{
 "cells": [
  {
   "cell_type": "markdown",
   "id": "81b1d6e4",
   "metadata": {},
   "source": [
    "1. Why are functions advantageous to have in your programs?\n",
    "Functions help in making code modular and easy readability. When the logic is implemented in functions, it can be invoked multiple times as needed without writing the piece of code totally wherever needed."
   ]
  },
  {
   "cell_type": "markdown",
   "id": "0724dacf",
   "metadata": {},
   "source": [
    "2. When does the code in a function run: when it&#39;s specified or when it&#39;s called?\n",
    "    Function runs only when it is called. "
   ]
  },
  {
   "cell_type": "markdown",
   "id": "2fcaf496",
   "metadata": {},
   "source": [
    "3. What statement creates a function?\n",
    "def function_name() is used to create a function"
   ]
  },
  {
   "cell_type": "markdown",
   "id": "515af2a4",
   "metadata": {},
   "source": [
    "4. What is the difference between a function and a function call?\n",
    "A function is a piece of code written to have code resuability and modularity. Function call is invoking the piece of code written in the function to get executed."
   ]
  },
  {
   "cell_type": "markdown",
   "id": "802b222d",
   "metadata": {},
   "source": [
    "5. How many global scopes are there in a Python program? How many local scopes?\n",
    "We will have 1 global scope in a python program and terminates after the program execution. Local scopes are specific to functions and get created when function is invoked and gets destroyed when function call is completed"
   ]
  },
  {
   "cell_type": "markdown",
   "id": "e3432955",
   "metadata": {},
   "source": [
    "6. What happens to variables in a local scope when the function call returns?\n",
    "Variables in local scope are terminated when the function call is completed and returned."
   ]
  },
  {
   "cell_type": "markdown",
   "id": "8cbe8780",
   "metadata": {},
   "source": [
    "7. What is the concept of a return value? Is it possible to have a return value in an expression?\n",
    "Functions have computations/logic to be executed coded in them. Once this execution is done, we can return or pass back the value computed by the function to the calling module. This is called return value.Yes, we can use return values in an expression and the function executed and returned"
   ]
  },
  {
   "cell_type": "markdown",
   "id": "7c003eb1",
   "metadata": {},
   "source": [
    "8. If a function does not have a return statement, what is the return value of a call to that function?\n",
    "It returns none"
   ]
  },
  {
   "cell_type": "markdown",
   "id": "6a660186",
   "metadata": {},
   "source": [
    "9. How do you make a function variable refer to the global variable?\n",
    "Using the global keyword"
   ]
  },
  {
   "cell_type": "markdown",
   "id": "80fe765c",
   "metadata": {},
   "source": [
    "10. What is the data type of None?\n",
    "NoneType\n"
   ]
  },
  {
   "cell_type": "markdown",
   "id": "e81ff3f1",
   "metadata": {},
   "source": [
    "11. What does the sentence import areallyourpetsnamederic do?\n",
    "This statement imports the module areallyourpetsnamederic"
   ]
  },
  {
   "cell_type": "markdown",
   "id": "c1452778",
   "metadata": {},
   "source": [
    "12. If you had a bacon() feature in a spam module, what would you call it after importing spam?\n",
    "spam.bacon()"
   ]
  },
  {
   "cell_type": "markdown",
   "id": "855e552d",
   "metadata": {},
   "source": [
    "13. What can you do to save a programme from crashing if it encounters an error?\n",
    "use error handling with try catch block."
   ]
  },
  {
   "cell_type": "markdown",
   "id": "13208dcf",
   "metadata": {},
   "source": [
    "14. What is the purpose of the try clause? What is the purpose of the except clause?\n",
    "Try is used to handle piece of code that can cause an error or exception. Except clause deals with what needs to be when an error an exception is thrown by code in try block."
   ]
  }
 ],
 "metadata": {
  "kernelspec": {
   "display_name": "Python 3 (ipykernel)",
   "language": "python",
   "name": "python3"
  },
  "language_info": {
   "codemirror_mode": {
    "name": "ipython",
    "version": 3
   },
   "file_extension": ".py",
   "mimetype": "text/x-python",
   "name": "python",
   "nbconvert_exporter": "python",
   "pygments_lexer": "ipython3",
   "version": "3.9.7"
  }
 },
 "nbformat": 4,
 "nbformat_minor": 5
}
