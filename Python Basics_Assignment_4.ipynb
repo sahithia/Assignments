{
 "cells": [
  {
   "cell_type": "markdown",
   "id": "76beda6e",
   "metadata": {},
   "source": [
    "1. What exactly is []?\n",
    "[] indicates an empty list"
   ]
  },
  {
   "cell_type": "markdown",
   "id": "0b099b44",
   "metadata": {},
   "source": [
    "2. In a list of values stored in a variable called spam, how would you assign the value &#39;hello&#39; as the\n",
    "third value? (Assume [2, 4, 6, 8, 10] are in spam.)\n",
    "spam[2] = \"hello\""
   ]
  },
  {
   "cell_type": "markdown",
   "id": "372f674c",
   "metadata": {},
   "source": [
    " Let's pretend the spam includes the list ['a','b','c','d'] for the next three queries.\n",
    "3. What is the value of spam[int(int('3' * 2) / 11)]?\n",
    "                                     \n",
    "   spam[3]= d"
   ]
  },
  {
   "cell_type": "markdown",
   "id": "8a483747",
   "metadata": {},
   "source": [
    "4. What is the value of spam[-1]?\n",
    "spam[-1]=d"
   ]
  },
  {
   "cell_type": "markdown",
   "id": "3de4b103",
   "metadata": {},
   "source": [
    "5. What is the value of spam[:2]?\n",
    "['a','b']"
   ]
  },
  {
   "cell_type": "markdown",
   "id": "4ca9ee5b",
   "metadata": {},
   "source": [
    "Let's pretend bacon has the list [3.14, 'cat', 11, 'cat', True] for the next three questions.\n",
    "6. What is the value of bacon.index('cat')\n",
    "bacon.index('cat')=1"
   ]
  },
  {
   "cell_type": "markdown",
   "id": "e3f98f86",
   "metadata": {},
   "source": [
    "7.How does bacon.append(99) change the look of the list value in bacon?\n",
    "bacon=[3.14,'cat',11,'cat',True,99]"
   ]
  },
  {
   "cell_type": "markdown",
   "id": "fef73adb",
   "metadata": {},
   "source": [
    "8. How does bacon.remove('cat') change the look of the list in bacon?\n",
    "bacon=[3.14,11,'cat',True,99]"
   ]
  },
  {
   "cell_type": "markdown",
   "id": "ab762387",
   "metadata": {},
   "source": [
    "9. What are the list concatenation and list replication operators?\n",
    "+ is used for list concatenation\n",
    "* is used for list replication"
   ]
  },
  {
   "cell_type": "markdown",
   "id": "af802107",
   "metadata": {},
   "source": [
    "10. What is difference between the list methods append() and insert()?\n",
    "append() adds specified element at end of list.insert() is used to add element at specific position."
   ]
  },
  {
   "cell_type": "markdown",
   "id": "75936c78",
   "metadata": {},
   "source": [
    "11. What are the two methods for removing items from a list?\n",
    "remove() is used to remove the first matching occurence of the specified element from the list.\n",
    "pop() is used to remove an element based on the index mentioned"
   ]
  },
  {
   "cell_type": "markdown",
   "id": "03b26bf0",
   "metadata": {},
   "source": [
    "12. Describe how list values and string values are identical.\n",
    "String is a sequence of characters. List is a sequence of elements that can be of different data types.\n",
    "Strings and Lists both have lengths and positions, both can be accessed by using indexes."
   ]
  },
  {
   "cell_type": "markdown",
   "id": "4337e9f2",
   "metadata": {},
   "source": [
    "13. What's the difference between tuples and lists?\n",
    "Tuples are immutable whereas lists are mutable, which means list can be modified after creation, where as tuple can't be modified after creation."
   ]
  },
  {
   "cell_type": "markdown",
   "id": "abe41f57",
   "metadata": {},
   "source": [
    "14. How do you type a tuple value that only contains the integer 42?\n",
    "tuple_int = (42)"
   ]
  },
  {
   "cell_type": "markdown",
   "id": "fbc4213e",
   "metadata": {},
   "source": [
    "15. How do you get a list value's tuple form? How do you get a tuple value's list form?\n",
    "List can be converted to tuple using tuple(listname). Eg:\n",
    "list1=[1,2,3,4]\n",
    "print(tuple(list1))\n",
    "Tuple can be converted to list using list(tuplename). Eg:\n",
    "\n",
    "tuple_int=(1,2,3,4)\n",
    "list(tuple_int)"
   ]
  },
  {
   "cell_type": "markdown",
   "id": "aec8a4b8",
   "metadata": {},
   "source": [
    "16. Variables that \n",
    "\"contain\" list values are not necessarily lists themselves. Instead, what do they\n",
    "contain?\n",
    "They contain reference to list values\n"
   ]
  },
  {
   "cell_type": "markdown",
   "id": "4cf1ac78",
   "metadata": {},
   "source": [
    "17. How do you distinguish between copy.copy() and copy.deepcopy()?\n",
    "When we use shallowcopy , copy(), any changes made to the copied object gets reflected in the original object. In case of a deep copy, the original object doesn't get impacted when copied object is changed"
   ]
  }
 ],
 "metadata": {
  "kernelspec": {
   "display_name": "Python 3 (ipykernel)",
   "language": "python",
   "name": "python3"
  },
  "language_info": {
   "codemirror_mode": {
    "name": "ipython",
    "version": 3
   },
   "file_extension": ".py",
   "mimetype": "text/x-python",
   "name": "python",
   "nbconvert_exporter": "python",
   "pygments_lexer": "ipython3",
   "version": "3.9.7"
  }
 },
 "nbformat": 4,
 "nbformat_minor": 5
}
